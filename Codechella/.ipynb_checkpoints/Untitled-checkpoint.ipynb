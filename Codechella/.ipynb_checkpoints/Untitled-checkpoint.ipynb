{
 "cells": [
  {
   "cell_type": "code",
   "execution_count": 230,
   "metadata": {},
   "outputs": [],
   "source": [
    "from TwitterAPI import TwitterAPI\n",
    "import requests\n",
    "import tweepy as tp\n",
    "import config\n",
    "import json\n",
    "\n",
    "\n",
    "API = TwitterAPI(<consumer_key>, \n",
    "                 <consumer_secret>,\n",
    "                 <access_keyc>,\n",
    "                 <access_secret>)\n",
    "\n",
    "auth = tp.OAuthHandler(<consumer_key>, <consumer_secret>)\n",
    "auth.set_access_token(<access_key>, <access_secret>)\n",
    "api = tp.API(auth)\n"
   ]
  },
  {
   "cell_type": "code",
   "execution_count": 231,
   "metadata": {},
   "outputs": [],
   "source": [
    "class twitHelpBot:\n",
    "    def __init__(self):\n",
    "        self.t = {}\n",
    "        self.get_tweets(api)\n",
    "        \n",
    "    def get_tweets(self, api):\n",
    "        tweets = api.search('help need emergency -RT', count = 100000, lang = 'en')\n",
    "        for tweet in tweets:\n",
    "            if 'user_mentions' in tweet.entities:\n",
    "                mentions = tweet.entities['user_mentions']\n",
    "                user = tweet.user.id\n",
    "                username = tweet.user.screen_name\n",
    "                tweetID = tweet.id\n",
    "                if not tweet.in_reply_to_status_id:\n",
    "                    if user in self.t:\n",
    "                        continue \n",
    "                    if len(mentions) != 0:\n",
    "                        temp = []\n",
    "                        for mention in mentions:\n",
    "                            temp.append(mention['screen_name'])\n",
    "                        self.t[user] = temp\n",
    "                        self.t[user].append(username)\n",
    "                        self.t[user].append(tweetID)\n",
    "    def send_dm(self):\n",
    "        for user in E.t:\n",
    "            event = {\"event\": {\n",
    "                  \"type\": \"message_create\",\n",
    "                  \"message_create\": {\n",
    "                    \"target\": { \"recipient_id\": user },\n",
    "                    \"message_data\": {\n",
    "                      \"text\":\n",
    "                        \"Hi! Are you in danger or require emergency assistance? Ignore if not.\",\n",
    "                      \"quick_reply\": {\n",
    "                        \"type\": \"options\",\n",
    "                        \"options\": [\n",
    "                          {\n",
    "                            \"label\": \"Urgent\",\n",
    "                            \"description\": \"It's an emergency!\",\n",
    "                            \"metadata\": \"external_id_1\",\n",
    "                          },\n",
    "                          {\n",
    "                            \"label\": \"SomewhatUrgent\",\n",
    "                            \"description\": \"It's not life or health threatening\",\n",
    "                            \"metadata\": \"external_id_2\",\n",
    "                          },\n",
    "                          {\n",
    "                            \"label\": \"NotUrgent\",\n",
    "                            \"description\": \"But I still need help.\",\n",
    "                            \"metadata\": \"external_id_3\",\n",
    "                          }\n",
    "                        ]\n",
    "                      }\n",
    "                    }\n",
    "                  }\n",
    "                }\n",
    "                }\n",
    "            k = API.request('direct_messages/events/new', json.dumps(event))\n",
    "            print('SUCCESS' if k.status_code == 200 else 'PROBLEM: ' + k.text)\n",
    "    def read_dm(self):\n",
    "        k = api.list_direct_messages(20)\n",
    "        return k[0].message_create['message_data']['text']\n",
    "    "
   ]
  },
  {
   "cell_type": "code",
   "execution_count": 232,
   "metadata": {},
   "outputs": [
    {
     "name": "stdout",
     "output_type": "stream",
     "text": [
      "SUCCESS\n"
     ]
    }
   ],
   "source": [
    "E = twitHelpBot()\n",
    "for i in E.t:\n",
    "    E.send_dm()"
   ]
  },
  {
   "cell_type": "code",
   "execution_count": 233,
   "metadata": {},
   "outputs": [],
   "source": [
    "dm = E.read_dm()\n",
    "if dm == 'Urgent' or dm == 'SomewhatUrgent' or dm == 'NotUrgent': \n",
    "    for i in E.t:\n",
    "        s = \"https://www.twitter.com/\"+E.t[i][1]+\"/status/\"+str(E.t[i][2])\n",
    "        tag = \"#\"+E.t[i][0]+dm\n",
    "    api.update_status(tag+\"\\n \"+s)"
   ]
  },
  {
   "cell_type": "code",
   "execution_count": null,
   "metadata": {},
   "outputs": [],
   "source": []
  }
 ],
 "metadata": {
  "kernelspec": {
   "display_name": "Python 3",
   "language": "python",
   "name": "python3"
  },
  "language_info": {
   "codemirror_mode": {
    "name": "ipython",
    "version": 3
   },
   "file_extension": ".py",
   "mimetype": "text/x-python",
   "name": "python",
   "nbconvert_exporter": "python",
   "pygments_lexer": "ipython3",
   "version": "3.8.3"
  }
 },
 "nbformat": 4,
 "nbformat_minor": 4
}
