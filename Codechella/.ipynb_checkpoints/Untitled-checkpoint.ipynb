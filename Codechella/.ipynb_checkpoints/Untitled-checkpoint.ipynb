{
 "cells": [
  {
   "cell_type": "code",
   "execution_count": 27,
   "metadata": {},
   "outputs": [],
   "source": [
    "consumer_key = 'KcCArnzZA1EDPHpWLqeplE9Z3'\n",
    "consumer_secret = '6icKFmUJQ9xNlz8rrzf0N4iKQHx7Rc1spJHeNWEOXRyKR8QKtu'\n",
    "bearer_token = 'AAAAAAAAAAAAAAAAAAAAAOXYJwEAAAAAXG%2BpFFpGC1WUcvfM3r5QVs4yjI4%3DMoGX9Pt0p75hwYV2v6XrkhduV39uyF8rs1c2uUhiXSm7Cn8lnd'\n",
    "access_key = '1322258283927805952-lYkIGk3oAze3y70xFMDzm0DlNJqqB4'\n",
    "access_secret = 'btOORqGw2CXMbeEPhiwapgrXBftOjSnICdQ7s6dFWpbqY'\n",
    "\n",
    "import tweepy as tp\n",
    "import config\n",
    "from pprint import pprint\n",
    "# import json\n",
    "\n",
    "auth = tp.OAuthHandler(consumer_key, consumer_secret)\n",
    "auth.set_access_token(access_key, access_secret)\n",
    "api = tp.API(auth)\n"
   ]
  },
  {
   "cell_type": "code",
   "execution_count": 43,
   "metadata": {},
   "outputs": [],
   "source": [
    "class Emergency_tracker:\n",
    "    def __init__(self):\n",
    "        self.t = {}\n",
    "        self.data = self.get_tweets(api)\n",
    "        \n",
    "    def get_tweets(self, api):\n",
    "        tweets = api.search('need help urgent emergency -RT', count = 100, lang = 'en')\n",
    "        for i in range(len(tweets)):\n",
    "            if 'user_mentions' in tweets[i].entities:\n",
    "                mentions = tweets[i].entities['user_mentions']\n",
    "                user = tweets[i].user.screen_name\n",
    "                if user in self.t:\n",
    "                    continue \n",
    "                if len(mentions) != 0:\n",
    "                    temp = []\n",
    "                    for mention in mentions:\n",
    "                        temp.append(mention['screen_name'])\n",
    "                    self.t[user] = temp"
   ]
  },
  {
   "cell_type": "code",
   "execution_count": 45,
   "metadata": {},
   "outputs": [
    {
     "name": "stdout",
     "output_type": "stream",
     "text": [
      "30\n",
      "{'vishh2601': ['canadaposthelps'], 'preethi50632948': ['D_Roopa_IPS'], 'GajjalaSrilatha': ['upasanakonidela'], 'rahulmaxpayne': ['USAndMumbai', 'USAndIndia', 'USAndKolkata', 'USAndChennai', 'USAndHyderabad'], 'sheetal_kamat': ['pune_pro'], 'MattSaltmarsh': ['Refugees'], 'raksh_rulz88': ['passportsevamea'], 'NHSuk': ['eastendannie'], 'IAMRAGHAV00': ['Emergency_Blood'], 'Ldn_Ambulance': ['samaritans', 'GiveUsAShout'], 'melodyBliss3': ['FBN_help', 'Sammycosmos'], 'hauptstadtdiva': ['COVID19'], 'SandeepBogra': ['ArvindKejriwal', 'msisodia'], 'sophia72466202': ['bethanrena', 'TonerStruggles'], 'ANURAGK14120645': ['goibibo', 'PMOIndia', 'FinMinIndia', 'HardeepSPuri', 'goibibo'], 'Battersea_': ['sarahmog', 'CatsProtection'], 'peta': ['rahulguptaglg'], 'GmailGugu': ['DrSJaishankar'], 'UNHCRYemen': ['ShelterClustYE'], 'Amitsin54138788': ['mlkhattar'], 'aamirraza_13': ['PiyushGoyalOffc'], 'reneci_': ['freecsskeyt'], 'SylviaAnnField1': ['JoeBiden'], 'alaskamilktxa': ['Mellifluousxx_', 'briankkengs'], '_satsunky': ['LightFerre'], 'Lucygraves43': ['Parents_Utd'], 'shrishti1996': ['USAndMumbai', 'sanhita08', 'KhushnazL', 'USAndIndia'], 'geologyguy': ['SueMischler', 'ScottWalker', 'Sen_JoeManchin'], 'UKSBM_ECN': ['samaritans'], 'GrassrootsSP': ['YAndscared', 'StrokeInfo1']}\n"
     ]
    }
   ],
   "source": [
    "E = Emergency_tracker()\n",
    "print(len(E.t))\n",
    "print(E.t)"
   ]
  },
  {
   "cell_type": "code",
   "execution_count": null,
   "metadata": {},
   "outputs": [],
   "source": []
  }
 ],
 "metadata": {
  "kernelspec": {
   "display_name": "Python 3",
   "language": "python",
   "name": "python3"
  },
  "language_info": {
   "codemirror_mode": {
    "name": "ipython",
    "version": 3
   },
   "file_extension": ".py",
   "mimetype": "text/x-python",
   "name": "python",
   "nbconvert_exporter": "python",
   "pygments_lexer": "ipython3",
   "version": "3.8.3"
  }
 },
 "nbformat": 4,
 "nbformat_minor": 4
}
