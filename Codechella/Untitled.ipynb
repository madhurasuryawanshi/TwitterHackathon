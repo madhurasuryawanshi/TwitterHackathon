{
 "cells": [
  {
   "cell_type": "code",
   "execution_count": 88,
   "metadata": {},
   "outputs": [],
   "source": [
    "import tweepy as tp\n",
    "import config\n",
    "from pprint import pprint\n",
    "import json\n",
    "\n",
    "auth = tp.OAuthHandler(config.consumer_key, config.consumer_secret)\n",
    "auth.set_access_token(config.access_key, config.access_secret)\n",
    "api = tp.API(auth)\n",
    "\n",
    "# api.\n",
    "# tweets = api.search('help', count = 3)\n",
    "\n",
    "# json.loads(tweets[0].read())\n",
    "\n",
    "    "
   ]
  },
  {
   "cell_type": "code",
   "execution_count": 98,
   "metadata": {},
   "outputs": [],
   "source": [
    "class Emergency_tracker:\n",
    "    \n",
    "    def __init__(self):\n",
    "        self.data = self.get_tweets(api)\n",
    "    \n",
    "    def get_tweets(self, api):\n",
    "        tweets = api.search('#help +@', count = 1000)\n",
    "        return tweets\n",
    "        \n",
    "    def get_tweets_text(self, tweets):\n",
    "        k = []\n",
    "        for tweet in tweets:\n",
    "            if tweet not in k:\n",
    "                k.append(tweet.text)\n",
    "        return k\n"
   ]
  },
  {
   "cell_type": "code",
   "execution_count": 99,
   "metadata": {},
   "outputs": [
    {
     "name": "stdout",
     "output_type": "stream",
     "text": [
      "100\n",
      "['Ask questions. So much doesn’t make sense. Blindly following one side or the other makes you susceptible to the lie… https://t.co/TR92chet0Q', '@VerizonBusiness Three days my support ticket has been open &amp; we are begging you 4 assistance.  All we get is the r… https://t.co/OusbLj6iYc', 'When you just want is to watch Doctor Mike videos but the weather keeps interfering and the videos keep pausing and… https://t.co/ygzhVdhSNt', 'RT @renae_78: Help! Sweet dog \"Luna\" #Abilene #Texas #Pledge #Rescue #Foster #Adopt #Help #thursdaymorning', 'RT @renae_78: 🆘🚨🚨🆘SAVE ME!🙏😇 Sweet 2yo girl \"Luna\" #adoptable #Dog **NEEDS IMMED #Pledges for #Rescue #Foster #Adopt #Help #Abilene #Texas…', '#TransRightsAreHumanRights #TransAwarenessWeek How could I possibly help out with protecting and increasing… https://t.co/qaQocyXgFI', 'Piggy will get you🐷Excape Now 😳 #YouTuber #Roblox #ChristmasIsComing #Netflix #COVID19 #CoronaVirusUpdates #horror… https://t.co/n73AKiaTuy', '@iearnfinance @MakerDAO #help #value @value_defi', 'RT @renae_78: 🆘🚨🆘🚨RT! Adopt me!! 🙏😇🐕 Sweet 20MO \"Natcho\" **NEED IMMED $ #Pledges 4 #Rescue #Foster #Adopt #Help #Memphis #TN #Tennessee * #…', 'RT @GFACCORD: Business doubts? We, @GFACCORD, #bigdata #AI powered #help #Spot  https://t.co/4CrH2BAQJl https://t.co/TtzaG1LUse', 'Business doubts? We, @GFACCORD, #bigdata #AI powered #help #Spot  https://t.co/4CrH2BAQJl https://t.co/TtzaG1LUse', 'RT @SamiraChatila: What is, based on your experience, the safest and most reliable way to save personal files and data on your laptop witho…', 'RT @diulusj: Biggie is no longer appearing on ACC website, but we ALL must not yet give up. PLEASE #HELP &amp; #SHARE in the SEARCH for a STRON…', 'What is, based on your experience, the safest and most reliable way to save personal files and data on your laptop… https://t.co/HmbAflF2q3', 'NEED HELP! I have a air leak in my kegerator and need help on how to find it! #help #beer #homebrew #kegerator #airleak', \"Support freedom to have an opposing opinion no matter what the current narrative is. It's really a no-brainer, no o… https://t.co/nVXqC7Uzje\", 'RT @tygerwulfe: Dear friends, my wife will die without her anti-stroke meds &amp; she takes her last dose at 3pm tomorrow. Her meds cost $175/w…', 'Hey bby 🤩mommy is here to help you with your needs dm ASAP and get spoiled with me only a loyal and honest bby firs… https://t.co/l1R2LHLm9v', 'Anyone using Revolut online bank...DONT!!! @revolut #finance #help #appcrash', '@Walmart @Walgreens @cvspharmacy @cvs @KrogerPharmacyB @kroger @Target \\n\\n@FerringUSA @RicardoMMUM   @rebiotix \\n\\nMy… https://t.co/Rqv7B0QtST', \"Tune in tomorrow for our next installment of the Dude Where's My Job live stream series! Tune in, give back, and so… https://t.co/obZpQLO3p0\", 'RT @micheajack786: Hey bby 🤩daddy is here to help you with your needs dm ASAP and get spoiled with me only a loyal and honest bby first 10…', 'LMAO MY HOUSE IS HAUNTED ITS MAKING WEIRD ASS NOISES STOPPP, IT SOUNDS LIKE WATER IS BOILING BUT ITS NOT HELP… https://t.co/l9LuaHvfZY', '5 Ways to Help Those in Need This Holiday Season @themotleyfool #charity #help #covidrelief #relief #donate #stocks  https://t.co/UfInxs4g1i', 'So is it only me who folds everything else except my under garments? Or do other females do it too ? \\n\\n#serious… https://t.co/2ZcaV0Mj1M', '10 Questions To #Help You Identify https://t.co/k0XfAZdxHY Your #Limiting Beliefs https://t.co/FWC8yD5PmZ', '10 Questions To #Help You Identify https://t.co/84XkXwFf6b Your #Limiting Beliefs https://t.co/MFFUJzSsOA', '10 Questions To #Help You Identify https://t.co/oDDWvuKbmc Your #Limiting Beliefs https://t.co/c0wDwaKs5v', '10 Questions To #Help You Identify https://t.co/zO4C1MfTgy Your #Limiting Beliefs https://t.co/qnVkBQm00n', 'Everyone, please retweet the first post in this thread to help me get my wife meds for the week? Thank you!… https://t.co/Jh6NBwYnNR', 'RT @GaaKilgarvan: Hurling Wall!!\\nWe are delighted thatfoundations for our hurling wall went in today!\\nCroom Concrete will be back within th…', 'RT @xxluklouxx: UDOSTEPNIAJCIE ‼️‼️\\n#help #koronawirus #rybnik #Katowice #slask #skijumpingfamily #famemma8 #rt #KoronawirusWPolsce #Covid_…', 'RT @imjustnosy_: Please just share if anything. It costs $0 to retweet and help a single mom out. 💜💜💜 #mutualaid #crowdfunding #help #suppo…', 'RT @OPP_WR: This is 11 yr old Sarah, who is battling #Cancer for the 5th time! This brave young lady turns 12 on Dec 5 and would love some…', 'Stay your lane, u said no she is not above my income. Now time don reach to buy her #bonestraighthair, ur relations… https://t.co/oHnQjL7DWM', 'UDOSTEPNIAJCIE ‼️‼️\\n#help #koronawirus #rybnik #Katowice #slask #skijumpingfamily #famemma8 #rt #KoronawirusWPolsce… https://t.co/HgSOANGcDE', 'RT @RefugiOceaniCAN: 💜🐶🐾 Amamos la sopa mágica!!  #AdoptaUnOceanican #Adopta #Oceanican #Rescate #rescue  #perrosfelices #perros #peludo #p…', 'RT @official_radaq: GUYS, @Bonk6 is trying to falsely flag my PayPal account, I made him a drawing but now he’s trying to get the money bac…', 'RT @renae_78: 🆘🚨🚨🆘SAVE ME!🙏😇 Sweet 2yo girl \"Luna\" #adoptable #Dog **NEEDS IMMED #Pledges for #Rescue #Foster #Adopt #Help #Abilene #Texas…', 'RT @renae_78: 🆘🆘🆘🆘🆘PLS RT! #adoptable #Dog \"Luna\"🙏😇🐶 **NEED Pledges $ 4 Rescue! #Pledge #Rescue #Foster #Adopt #Abilene #Texas #TX #AdoptDo…', 'RT @renae_78: 🆘🆘🆘🆘🆘PLS RT! #adoptable #Dog \"Luna\"🙏😇🐶 **NEED Pledges $ 4 Rescue! #Pledge #Rescue #Foster #Adopt #Abilene #Texas #TX #AdoptDo…', 'RT @tygerwulfe: Dear friends, my wife will die without her anti-stroke meds &amp; she takes her last dose at 3pm tomorrow. Her meds cost $175/w…', 'RT @renae_78: 🆘🆘🆘🆘🆘PLS RT! #adoptable #Dog \"Luna\"🙏😇🐶 **NEED Pledges $ 4 Rescue! #Pledge #Rescue #Foster #Adopt #Abilene #Texas #TX #AdoptDo…', 'RT @renae_78: 🆘🆘🚨🚨RT! SAVE ME!🙏😇🐕Sweet 2yo girl \"Luna\" Scared/shaking!😭TBK anytime!💔**NEED IMMED $ #Pledges 4 #Rescue #Foster #Adopt #Help…', 'RT @renae_78: Help! Sweet dog \"Luna\" #Abilene #Texas #Pledge #Rescue #Foster #Adopt #Help #thursdaymorning https://t.co/AHmNFOXfda', 'RT @1in5advocacy: 🚨#HELP! I just received a DM that a family in #Maryland is searching for immediate assistance with their 10-year-olds men…', '@BhartiS61122251 @KapilMishra_IND 👆@TajinderBagga @Rajput_Ramesh #fix #help', 'RT @renae_78: Help! Sweet dog \"Luna\" #Abilene #Texas #Pledge #Rescue #Foster #Adopt #Help #thursdaymorning', 'RT @imjustnosy_: Please just share if anything. It costs $0 to retweet and help a single mom out. 💜💜💜 #mutualaid #crowdfunding #help #suppo…', 'RT @alysm745: @CQualtro @JonathanWNV Include disabled, Minister. That’s your job, not Minister of Inclusion For 1.6% of Disabled. \\n\\nIt’s AL…', 'RT @renae_78: 🆘🆘🚨🚨RT! SAVE ME!🙏😇🐕Sweet 2yo girl \"Luna\" Scared/shaking!😭TBK anytime!💔**NEED IMMED $ #Pledges 4 #Rescue #Foster #Adopt #Help…', '#royalehightrading #royalehightrade #royalehightrades #royalehigh #rh #rhtrades #rhtrade #rhgiveaways #rhgiveaway… https://t.co/9qu3PG1N15', 'RT @MaryJoe38642126: .@Act4AnimalsEU  .@MoveTheWorld \\n\\nPLS #HELP #End The #Killings of #Azerbaijan’s #StrayDogs \\n\\n#PetAbandonmentLaws #Spay…', 'RT @renae_78: 🆘🚨🚨🆘SAVE ME!🙏😇 Sweet 2yo girl \"Luna\" #adoptable #Dog **NEEDS IMMED #Pledges for #Rescue #Foster #Adopt #Help #Abilene #Texas…', 'Wat ik ontzettend lelijk vind. Woorden uit twee talen combineren. Ik zag vandaag weer en hele erge. “Hoorcare” (who… https://t.co/5I2bHIXutN', 'Yes you can be HOME HAPPY! Call or message me to get started! Chad M. Smith (865)203-6071 BEST Summit Realty Knoxvi… https://t.co/DFcAeXi8Yl', 'RT @tygerwulfe: Dear friends, my wife will die without her anti-stroke meds &amp; she takes her last dose at 3pm tomorrow. Her meds cost $175/w…', 'RT @renae_78: 🆘🚨🚨🆘SAVE ME!🙏😇 Sweet 2yo girl \"Luna\" #adoptable #Dog **NEEDS IMMED #Pledges for #Rescue #Foster #Adopt #Help #Abilene #Texas…', 'RT @renae_78: Help! Sweet dog \"Luna\" #Abilene #Texas #Pledge #Rescue #Foster #Adopt #Help #thursdaymorning', 'RT @YukiBerry28: I know all of us are in a tough spot due to covid, even just a RT will do. Badly needed for food and medicines. Much love…', 'RT @renae_78: 🆘🆘🚨🚨RT! SAVE ME!🙏😇🐕Sweet 2yo girl \"Luna\" Scared/shaking!😭TBK anytime!💔**NEED IMMED $ #Pledges 4 #Rescue #Foster #Adopt #Help…', 'RT @renae_78: 🆘🆘🆘🆘🆘PLS RT! #adoptable #Dog \"Luna\"🙏😇🐶 **NEED Pledges $ 4 Rescue! #Pledge #Rescue #Foster #Adopt #Abilene #Texas #TX #AdoptDo…', 'If anybody could help me out with some cash because i dont have any money to pay bills or even rent because of uc,… https://t.co/newAcyZMZH', 'RT @ensketchy: When the old men meet.\\n\\n#ensketchy #procreate #digitalart #digitalpainting #illustration #instaart #painting #window #cri #h…', 'RT @MaryJoe38642126: .@Act4AnimalsEU  .@MoveTheWorld \\n\\nPLS #HELP #End The #Killings of #Azerbaijan’s #StrayDogs \\n\\n#PetAbandonmentLaws #Spay…', 'What should I have tomorrow night if I ain’t having pizza #food #takeout #suggestion #ideas #help', 'RT @Author_man_ram: One of the 16:17 5 star 🌟 #reviews #i_dont_like_it #idontlikeit has obtained in just over a month\\n#greatgoing &amp; so #pro…', 'RT @ishrunkthecat: Resin artists!! I need advice!!\\nIf i were to *try* resin would the Craft Smart resin Michaels has be ideal or does it ye…', '@GOP @HouseGOP @SenateGOP @TheDemocrats @SenateDems @HouseDemocrats So now is time 4 pro-life, Supreme,2nd amendmen… https://t.co/VHpkwi60pF', 'RT @Author_man_ram: One of the 16:17 5 star 🌟 #reviews #i_dont_like_it #idontlikeit has obtained in just over a month\\n#greatgoing &amp; so #pro…', \"RT @hopeforjoyUG: DONATE TO AFRICA (UGANDA 🇺🇬) THE CONTINENT AND COUNTRY OF LOVE ❤❤❤\\nLet's love, Wake up and create light for the young gen…\", 'Tem uns \"coleguinhas\" que tiram a máscara quando aproximam! Oi? Será  que estão sendo voluntários da vacina? #help', 'Hey fam! I know it’s a lot. I know it’s the holiday season. \\n\\nBut I’m reaching out for #help. It’s for my mom, who… https://t.co/tXxPBllfwo', 'One of the 16:17 5 star 🌟 #reviews #i_dont_like_it #idontlikeit has obtained in just over a month\\n#greatgoing &amp; so… https://t.co/JJyp83LU5B', '#webitrexsolutions  is #the #Best #Android #App #Development #Company #help #your #business to #reach a #billion… https://t.co/FPKmuuWH66', \"RT @mrlube: Whoever needs this #reminder: #WinterIsComing, and you are still on time to #prepare your vehicle! \\n\\nIt's never too late to #ch…\", \"@VibePay I'm litteraly broke 🙁\\n#vibepay #VibePayFriday #help\\n https://t.co/Sr6vLLihNv\", 'RT @tygerwulfe: Dear friends, my wife will die without her anti-stroke meds &amp; she takes her last dose at 3pm tomorrow. Her meds cost $175/w…', \"RT @SGrafious: @MaryJoe38642126 @Act4AnimalsEU @MoveTheWorld @H_A_Foundation PLS #HELP #END The #Killings of #Azerbaijan's #StrayDogs These…\", 'RT @MaryJoe38642126: .@Act4AnimalsEU  .@MoveTheWorld \\n\\nPLS #HELP #End The #Killings of #Azerbaijan’s #StrayDogs \\n\\n#PetAbandonmentLaws #Spay…', '#How To #BillZero\\n\\n#Step 1\\n\\n1. #Select\\n2. #Access\\n3. #Connect\\n\\n1000 #Vendors\\n#Safe &amp; #Secure\\nNo #Personal #Data… https://t.co/rnnAfeaMS2', 'neverland #mrzoned #blender #3d #animation #music #musicproduction #art #visualart #aesthetic #cursed #vhs #vintage… https://t.co/uaSEh1gNJW', 'RT @imjustnosy_: Got my meds, diapers, wipes and just need a few groceries to last until Tuesday the latest. (Payday) Sofia needs to go get…', '@peregrinrm @neuromanso A Ursula ta na minha lista. Mas comprei uma caralhada de sci-fi outro dia (achei enfim L Sp… https://t.co/MrcwU9iuBj', 'RT @tygerwulfe: Dear friends, my wife will die without her anti-stroke meds &amp; she takes her last dose at 3pm tomorrow. Her meds cost $175/w…', 'Bob Ross het vaccineerde me #help op1', 'We are here to #help you! If you are in need of #representation, please visit our website to learn more about if th… https://t.co/wJP5kZQKG9', 'Opportunity! #thebeatlesfans #rockandroll #yokoono #vintage #sgtpepperslonelyheartsclubband #harrison #thefabfour… https://t.co/ma9IYFhcxU', 'Happiness is a Choice You Make. Learn How to build a happier mind to be happy. #Read BUILD A HAPPIER VERSION OF YOU… https://t.co/xsHGoKs1XM', 'I need some new Spotify playlists #help', '“This app provides me with support when I need it the most”. \\n\\nUse the code RECOVERME100 to get one year free.\\n\\nIf… https://t.co/WyqbisrNIl', '🆘 CONDIVIDI!!!!! 🆘\\n😷 CAUSA CORONAVIRUS viene rilasciata, dal veterinario, un’autorizzazione per il trasporto. 🚗\\nCON… https://t.co/rkj64Aiy2Z', \"#StudentLoanDebt is threatening my family's security. #Help https://t.co/RUtCwKRfaz\", 'We are shopping for equipment for the Kindergarten!  Notice anything interesting about this piece? #buildaschool… https://t.co/2epAotyU8z', 'RT @oyuki8: Call Governor Stitt today and let him know we don’t want Oklahoma to kill and innocent man. FREE JULIUS JONES!\\n\\n#justiceforjuli…', 'How many off you really want to JOIN #CFX?\\nHow #hungry are you for #success? 🔥\\nIf a little #help could get you goin… https://t.co/3kGjA0K1p8', \"RT @DenyciaHates_U: If this quest still doesn't work, I will be writing @bethesda A LETTER!!!!!!!!! https://t.co/cMHGlHDeMl #skyrimproblems…\", 'Finally I have a week off. Been wading through mud for months it feels like. But will go back in to sort exams for… https://t.co/yj7JwHzG7V', 'RT @DanielsWeek1: #John 16:33  I have said these #Things to you, that in \"Me\" you May Have Peace.  \"In the World you will have #Tribulation…', '@JoeBiden PLEASE HELP💙💙PLEASE SHARE❤️❤️ Our Dog Wader Died 😥https://t.co/saj7WBv24W #dogs #dogsoftwitter… https://t.co/v8LFeE8tdf']\n"
     ]
    }
   ],
   "source": [
    "E = Emergency_tracker()\n",
    "print(len(E.get_tweets_text(E.data)))\n",
    "print(E.get_tweets_text(E.data))"
   ]
  },
  {
   "cell_type": "code",
   "execution_count": null,
   "metadata": {},
   "outputs": [],
   "source": []
  }
 ],
 "metadata": {
  "kernelspec": {
   "display_name": "Python 3",
   "language": "python",
   "name": "python3"
  },
  "language_info": {
   "codemirror_mode": {
    "name": "ipython",
    "version": 3
   },
   "file_extension": ".py",
   "mimetype": "text/x-python",
   "name": "python",
   "nbconvert_exporter": "python",
   "pygments_lexer": "ipython3",
   "version": "3.8.3"
  }
 },
 "nbformat": 4,
 "nbformat_minor": 4
}
