{
 "cells": [
  {
   "cell_type": "code",
   "execution_count": 71,
   "metadata": {},
   "outputs": [],
   "source": [
    "consumer_key = 'KcCArnzZA1EDPHpWLqeplE9Z3'\n",
    "consumer_secret = '6icKFmUJQ9xNlz8rrzf0N4iKQHx7Rc1spJHeNWEOXRyKR8QKtu'\n",
    "bearer_token = 'AAAAAAAAAAAAAAAAAAAAAOXYJwEAAAAAXG%2BpFFpGC1WUcvfM3r5QVs4yjI4%3DMoGX9Pt0p75hwYV2v6XrkhduV39uyF8rs1c2uUhiXSm7Cn8lnd'\n",
    "access_key = '1322258283927805952-lYkIGk3oAze3y70xFMDzm0DlNJqqB4'\n",
    "access_secret = 'btOORqGw2CXMbeEPhiwapgrXBftOjSnICdQ7s6dFWpbqY'\n",
    "\n",
    "import tweepy as tp\n",
    "import config\n",
    "from pprint import pprint\n",
    "# import json\n",
    "\n",
    "auth = tp.OAuthHandler(consumer_key, consumer_secret)\n",
    "auth.set_access_token(access_key, access_secret)\n",
    "api = tp.API(auth)\n"
   ]
  },
  {
   "cell_type": "code",
   "execution_count": 74,
   "metadata": {},
   "outputs": [],
   "source": [
    "class Emergency_tracker:\n",
    "    def __init__(self):\n",
    "        self.t = {}\n",
    "        self.data = self.get_tweets(api)\n",
    "        \n",
    "    def get_tweets(self, api):\n",
    "        tweets = api.search('need help urgent -RT', count = 100000, lang = 'en')\n",
    "        for tweet in tweets:\n",
    "            if 'user_mentions' in tweet.entities:\n",
    "                mentions = tweet.entities['user_mentions']\n",
    "                user = tweet.user.screen_name\n",
    "                if user in self.t:\n",
    "                    continue \n",
    "                if len(mentions) != 0:\n",
    "                    temp = []\n",
    "                    for mention in mentions:\n",
    "                        temp.append(mention['screen_name'])\n",
    "                    self.t[user] = temp"
   ]
  },
  {
   "cell_type": "code",
   "execution_count": 75,
   "metadata": {},
   "outputs": [
    {
     "name": "stdout",
     "output_type": "stream",
     "text": [
      "53\n",
      "Bigst1g :  ['YourSSE']\n",
      "GirishTaku :  ['amazonIN']\n",
      "AbhayYa56881478 :  ['SonuSood']\n",
      "arturo74r :  ['AskPlayStation']\n",
      "manishxk :  ['Bhuvan_Bam', 'SonuSood', 'ketto', 'ChouhanShivraj']\n",
      "Rietzsche :  ['DHLeCommerce']\n",
      "odalis888 :  ['PeterAskin1']\n",
      "abhijittcs :  ['makemytrip']\n",
      "GajjalaSrilatha :  ['alluarjun']\n",
      "RajLovesJesus :  ['HyundaiIndia']\n",
      "TinkuMehta19 :  ['narendramodi']\n",
      "abhigopalka :  ['vipulifs']\n",
      "Cal_Somerset1 :  ['DerekMaher14', 'mancunianmedic', 'Oldboatie']\n",
      "kim78143380 :  ['jimmynothazim']\n",
      "vishh2601 :  ['canadaposthelps']\n",
      "4undamentalz :  ['accessbank_help']\n",
      "rrunsworth :  ['jimirooney1', 'actionheroteach', 'efaeUK']\n",
      "TrapTwo :  ['HiveHomeUK']\n",
      "OkoyeJoyce7 :  ['chidinmaekile']\n",
      "Sam53479128 :  ['mybmcWardE']\n",
      "rrnair85 :  ['MobiKwikSWAT']\n",
      "KumarGo12787359 :  ['IRCTCofficial']\n",
      "katieEbrooks :  ['arricoomarasamy']\n",
      "cpage1994 :  ['sainsburys']\n",
      "MylesOlesco :  ['McDo_PH']\n",
      "DyotiTV :  ['Ang080']\n",
      "ifakaman :  ['FBN_help']\n",
      "GGrahak :  ['RelianceGenIn']\n",
      "DrSunil77123287 :  ['HardeepSPuri']\n",
      "Nikhilj57511612 :  ['IndiaPostOffice', 'IndiaPostOffice']\n",
      "GallivantGirl :  ['ThreeUKSupport']\n",
      "hirakc01 :  ['ScotiabankHelps']\n",
      "hey_sanmy :  ['EA_Espana']\n",
      "I_am_kiki :  ['LeoinAbuja', 'kaytiki']\n",
      "PrenomEtNumeros :  ['davenewworld_2']\n",
      "Maziog :  ['FBN_help']\n",
      "GK_Mehra :  ['Paytm', 'vijayshekhar']\n",
      "Pramil68873932 :  ['Karan_Gilhotra']\n",
      "Kumud50137175 :  ['BeingSalmanKhan']\n",
      "backflipossum :  ['RinaTheShark']\n",
      "nikitarenee37 :  ['DrJessTaylor']\n",
      "afmcguirelectri :  ['Snowden']\n",
      "Sanjeev87630116 :  ['SonuSood']\n",
      "EdialeStella :  ['FBN_help', 'gharmygold']\n",
      "preethi50632948 :  ['D_Roopa_IPS']\n",
      "Emmymekzi :  ['Bet9jaHelp']\n",
      "Meenakshi2704 :  ['SonuSood']\n",
      "uchehadassah :  ['gtbank', 'lyt1ne']\n",
      "AakankshaShah92 :  ['rpomumbai']\n",
      "Brayray100 :  ['thecableng', 'segalink', 'PoliceNG', 'LagosPoliceng', 'rrslagos767']\n",
      "kasturivijayas1 :  ['KTRTRS']\n",
      "aloksharmaG :  ['IncomeTaxIndia', 'NSDLeGovernance', 'UTIPANServices', 'nsitharaman', 'nsitharamanoffc']\n",
      "almakhbaly :  ['abeer_alathwari']\n"
     ]
    }
   ],
   "source": [
    "E = Emergency_tracker()\n",
    "print(len(E.t))\n",
    "# print(E.t)\n",
    "for i in E.t:\n",
    "    print(i,': ',E.t[i])"
   ]
  },
  {
   "cell_type": "code",
   "execution_count": null,
   "metadata": {},
   "outputs": [],
   "source": []
  }
 ],
 "metadata": {
  "kernelspec": {
   "display_name": "Python 3",
   "language": "python",
   "name": "python3"
  },
  "language_info": {
   "codemirror_mode": {
    "name": "ipython",
    "version": 3
   },
   "file_extension": ".py",
   "mimetype": "text/x-python",
   "name": "python",
   "nbconvert_exporter": "python",
   "pygments_lexer": "ipython3",
   "version": "3.8.3"
  }
 },
 "nbformat": 4,
 "nbformat_minor": 4
}
